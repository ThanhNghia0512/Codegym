{
 "cells": [
  {
   "cell_type": "code",
   "execution_count": 1,
   "id": "a64ac23b",
   "metadata": {},
   "outputs": [],
   "source": [
    "import turtle\n",
    "turtle.pensize(5)\n",
    "turtle.pencolor(\"blue\")\n"
   ]
  },
  {
   "cell_type": "code",
   "execution_count": 2,
   "id": "473a5450",
   "metadata": {},
   "outputs": [],
   "source": [
    "facesize = 200\n",
    "turtle.penup()\n",
    "turtle.goto(0,-200)\n",
    "turtle.pendown()\n",
    "turtle.circle(facesize)"
   ]
  },
  {
   "cell_type": "code",
   "execution_count": 3,
   "id": "830ae89f",
   "metadata": {},
   "outputs": [],
   "source": [
    "#for eyes\n",
    "#Màu nền mắt là màu đỏ\n",
    "turtle.fillcolor (\"red\")\n",
    "turtle.penup()\n",
    "turtle.goto(-100,50)\n",
    "turtle.pendown()\n",
    " \n",
    "# khai bao bien eyesize lưu kích thước mắt\n",
    "eye_size = 17.5\n",
    " \n",
    "turtle.begin_fill()\n",
    "turtle.circle(eye_size)\n",
    "turtle.end_fill()\n",
    "turtle.penup()\n",
    " \n",
    "turtle.goto(100,50)\n",
    "turtle.pendown()\n",
    "turtle.begin_fill()\n",
    "turtle.circle(eye_size)\n",
    "turtle.end_fill()"
   ]
  },
  {
   "cell_type": "code",
   "execution_count": 4,
   "id": "e2be7ec8",
   "metadata": {},
   "outputs": [],
   "source": [
    "#for nose\n",
    "turtle.penup ()\n",
    "turtle.goto(0,50)\n",
    "turtle.pendown()\n",
    "turtle.circle(-70, steps=3)"
   ]
  },
  {
   "cell_type": "code",
   "execution_count": null,
   "id": "c73ae619",
   "metadata": {},
   "outputs": [],
   "source": [
    "# for smile\n",
    "turtle.penup()\n",
    "turtle.goto(-100, -70)\n",
    "turtle.pendown()\n",
    "turtle.right(90)\n",
    "turtle.circle(100,180)\n",
    "turtle.mainloop()"
   ]
  }
 ],
 "metadata": {
  "kernelspec": {
   "display_name": "Python 3 (ipykernel)",
   "language": "python",
   "name": "python3"
  },
  "language_info": {
   "codemirror_mode": {
    "name": "ipython",
    "version": 3
   },
   "file_extension": ".py",
   "mimetype": "text/x-python",
   "name": "python",
   "nbconvert_exporter": "python",
   "pygments_lexer": "ipython3",
   "version": "3.9.7"
  }
 },
 "nbformat": 4,
 "nbformat_minor": 5
}
