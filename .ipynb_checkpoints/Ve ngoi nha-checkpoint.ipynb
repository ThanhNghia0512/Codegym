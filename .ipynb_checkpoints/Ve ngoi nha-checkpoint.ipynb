{
 "cells": [
  {
   "cell_type": "code",
   "execution_count": 1,
   "id": "0a09f696",
   "metadata": {},
   "outputs": [],
   "source": [
    "# Khai báo turtle\n",
    "import turtle\n",
    "# Chọn màu nền\n",
    "t = turtle.Turtle()\n",
    "turtle.bgcolor(\"gray\");"
   ]
  },
  {
   "cell_type": "code",
   "execution_count": 2,
   "id": "85fb6457",
   "metadata": {},
   "outputs": [],
   "source": [
    "# Vẽ hình chữ nhật màu xanh\n",
    "t.color(\"black\",\"blue\")\n",
    "t.begin_fill()\n",
    "for i in range(2):\n",
    "    t.fd(75)\n",
    "    t.lt(90)\n",
    "    t.fd(175)\n",
    "    t.lt(90)\n",
    "t.end_fill()"
   ]
  },
  {
   "cell_type": "code",
   "execution_count": 3,
   "id": "58086103",
   "metadata": {},
   "outputs": [],
   "source": [
    "# Đưa trỏ đến điểm 75\n",
    "t.goto(75,0)\n",
    "# Vẽ hình bình hành màu vàng\n",
    "t.color(\"black\",\"yellow\")\n",
    "t.begin_fill()\n",
    "t.lt(30)\n",
    "t.fd(30)\n",
    "t.lt(60)\n",
    "t.fd(175)\n",
    "t.lt(120)\n",
    "t.fd(30)\n",
    "t.end_fill()"
   ]
  },
  {
   "cell_type": "code",
   "execution_count": 4,
   "id": "63fc45c8",
   "metadata": {},
   "outputs": [],
   "source": [
    "# vẽ mái nhà màu hồng\n",
    "t.color(\"black\",\"pink\")\n",
    "t.begin_fill()\n",
    "t.right(90)\n",
    "t.fd(75)\n",
    "t.lt(120)\n",
    "t.fd(75)\n",
    "t.lt(120)\n",
    "t.fd(75)\n",
    "t.end_fill()"
   ]
  },
  {
   "cell_type": "code",
   "execution_count": 5,
   "id": "55484514",
   "metadata": {},
   "outputs": [],
   "source": [
    "# Vẽ phần mái màu cam\n",
    "t.color(\"black\",\"orange\")\n",
    "t.begin_fill()\n",
    "t.lt(30)\n",
    "t.fd(30)\n",
    "t.lt(90)\n",
    "t.fd(75)\n",
    "t.lt(90)\n",
    "t.fd(30)\n",
    "t.end_fill()"
   ]
  },
  {
   "cell_type": "code",
   "execution_count": 6,
   "id": "5de2d47f",
   "metadata": {},
   "outputs": [],
   "source": [
    "# Vẽ ông mặt trời\n",
    "t.pu()\n",
    "t.goto (150,400)\n",
    "t.pd()\n",
    "t.color(\"black\",\"yellow\")\n",
    "t.begin_fill()\n",
    "t.circle(40)\n",
    "t.end_fill()"
   ]
  },
  {
   "cell_type": "code",
   "execution_count": 7,
   "id": "4838df52",
   "metadata": {},
   "outputs": [],
   "source": [
    "# Đưa rùa về vị trí bắt đầu\n",
    "t.pu()\n",
    "t.home()\n",
    "t.pd()\n",
    "t.pu()\n",
    "# vẽ cửa màu xanh\n",
    "t.goto(25,0)\n",
    "t.pd()\n",
    "t.color(\"black\",\"green\")\n",
    "t.begin_fill()\n",
    "t.fd(25)\n",
    "t.lt(90)\n",
    "t.fd(125)\n",
    "t.lt(90)\n",
    "t.fd(25)\n",
    "t.lt(90)\n",
    "t.fd(125)\n",
    "t.end_fill()"
   ]
  },
  {
   "cell_type": "code",
   "execution_count": 8,
   "id": "15fe4bed",
   "metadata": {},
   "outputs": [],
   "source": [
    "# Vẽ cửa sổ màu nâu\n",
    "t.pu()\n",
    "t.goto(80,95)\n",
    "t.pd()\n",
    "t.color(\"black\",\"brown\")\n",
    "t.begin_fill()\n",
    "for i in range (2):\n",
    "    t.lt(120)\n",
    "    t.fd(10)\n",
    "    t.lt(60)\n",
    "    t.fd(40)\n",
    "t.end_fill()"
   ]
  },
  {
   "cell_type": "code",
   "execution_count": 9,
   "id": "69b11af3",
   "metadata": {},
   "outputs": [],
   "source": [
    "# Vẽ thân cây\n",
    "t.pu()\n",
    "t.goto(180,-10)\n",
    "t.pd()\n",
    "t.color(\"black\",\"brown\")\n",
    "t.begin_fill()\n",
    "for i in range(2):\n",
    "    t.fd(75)\n",
    "    t.lt(90)\n",
    "    t.fd(25)\n",
    "    t.lt(90)\n",
    "t.end_fill()"
   ]
  },
  {
   "cell_type": "code",
   "execution_count": 10,
   "id": "b7de5067",
   "metadata": {},
   "outputs": [],
   "source": [
    "# Vẽ tán cây\n",
    "t.pu()\n",
    "t.goto(192.5,-10)\n",
    "t.pd()\n",
    "t.color(\"black\",\"green\")\n",
    "t.begin_fill()\n",
    "t.lt(90)\n",
    "t.fd(30)\n",
    "t.lt(120)\n",
    "t.fd(60)\n",
    "t.lt(120)\n",
    "t.fd(60)\n",
    "t.lt(120)\n",
    "t.fd(30)\n",
    "t.end_fill()"
   ]
  },
  {
   "cell_type": "code",
   "execution_count": 11,
   "id": "9c742f2f",
   "metadata": {},
   "outputs": [],
   "source": [
    "t.pu()\n",
    "t.goto(192.5,42)\n"
   ]
  },
  {
   "cell_type": "code",
   "execution_count": 12,
   "id": "a668844d",
   "metadata": {},
   "outputs": [],
   "source": [
    "t.pd()\n",
    "t.color(\"black\",\"green\")\n",
    "t.begin_fill()\n",
    "t.fd(30)\n",
    "t.lt(120)\n",
    "t.fd(60)\n",
    "t.lt(120)\n",
    "t.fd(60)\n",
    "t.lt(120)\n",
    "t.fd(30)\n",
    "t.end_fill()"
   ]
  },
  {
   "cell_type": "code",
   "execution_count": 13,
   "id": "2d1f37cc",
   "metadata": {},
   "outputs": [],
   "source": [
    "t.pu()\n",
    "t.goto(192.5,94)\n",
    "t.pd()\n"
   ]
  },
  {
   "cell_type": "code",
   "execution_count": 14,
   "id": "c3e852e4",
   "metadata": {},
   "outputs": [],
   "source": [
    "t.pd()\n",
    "t.color(\"black\",\"green\")\n",
    "t.begin_fill()\n",
    "t.fd(30)\n",
    "t.lt(120)\n",
    "t.fd(60)\n",
    "t.lt(120)\n",
    "t.fd(60)\n",
    "t.lt(120)\n",
    "t.fd(30)\n",
    "t.end_fill()"
   ]
  },
  {
   "cell_type": "code",
   "execution_count": null,
   "id": "d0094d48",
   "metadata": {},
   "outputs": [],
   "source": []
  }
 ],
 "metadata": {
  "kernelspec": {
   "display_name": "Python 3 (ipykernel)",
   "language": "python",
   "name": "python3"
  },
  "language_info": {
   "codemirror_mode": {
    "name": "ipython",
    "version": 3
   },
   "file_extension": ".py",
   "mimetype": "text/x-python",
   "name": "python",
   "nbconvert_exporter": "python",
   "pygments_lexer": "ipython3",
   "version": "3.9.7"
  }
 },
 "nbformat": 4,
 "nbformat_minor": 5
}
