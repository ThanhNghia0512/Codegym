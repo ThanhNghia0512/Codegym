{
 "cells": [
  {
   "cell_type": "code",
   "execution_count": 1,
   "id": "63d4ed73",
   "metadata": {
    "scrolled": true
   },
   "outputs": [],
   "source": [
    "import turtle\n",
    "t = turtle.Turtle()\n",
    "turtle.pensize (10)\n",
    "turtle.pencolor (\"blue\")\n",
    "turtle.fillcolor (\"pink\")\n",
    "turtle.begin_fill()\n",
    "t.circle (150)\n",
    "turtle.end_fill()\n"
   ]
  },
  {
   "cell_type": "code",
   "execution_count": 2,
   "id": "3a703d6f",
   "metadata": {},
   "outputs": [],
   "source": [
    "import turtle\n",
    "t = turtle.Turtle()\n",
    "t.goto(-40,120)\n",
    "t.color(\"blue\",\"pink\")\n",
    "t.begin_fill()\n",
    "t.circle(150)\n",
    "t.end_fill()"
   ]
  },
  {
   "cell_type": "code",
   "execution_count": null,
   "id": "1f2f5edd",
   "metadata": {},
   "outputs": [],
   "source": []
  }
 ],
 "metadata": {
  "kernelspec": {
   "display_name": "Python 3 (ipykernel)",
   "language": "python",
   "name": "python3"
  },
  "language_info": {
   "codemirror_mode": {
    "name": "ipython",
    "version": 3
   },
   "file_extension": ".py",
   "mimetype": "text/x-python",
   "name": "python",
   "nbconvert_exporter": "python",
   "pygments_lexer": "ipython3",
   "version": "3.9.7"
  }
 },
 "nbformat": 4,
 "nbformat_minor": 5
}
